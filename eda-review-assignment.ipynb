{
 "cells": [
  {
   "cell_type": "code",
   "execution_count": 1,
   "id": "3a08437a",
   "metadata": {},
   "outputs": [],
   "source": [
    "import pandas as pd\n",
    "import numpy as np\n",
    "import matplotlib.pyplot as plt\n",
    "import seaborn as sns"
   ]
  },
  {
   "cell_type": "code",
   "execution_count": 2,
   "id": "73b2347b",
   "metadata": {},
   "outputs": [],
   "source": [
    "import nltk\n",
    "from nltk.sentiment.vader import SentimentIntensityAnalyzer"
   ]
  },
  {
   "cell_type": "code",
   "execution_count": 3,
   "id": "05f9bb3c",
   "metadata": {},
   "outputs": [],
   "source": [
    "df = pd.read_csv(r'C:\\Users\\Ashish Gupta\\Desktop\\Python\\Data Analyst - Test Data - US.csv')"
   ]
  },
  {
   "cell_type": "code",
   "execution_count": 4,
   "id": "03cffba8",
   "metadata": {
    "scrolled": false
   },
   "outputs": [
    {
     "data": {
      "text/html": [
       "<div>\n",
       "<style scoped>\n",
       "    .dataframe tbody tr th:only-of-type {\n",
       "        vertical-align: middle;\n",
       "    }\n",
       "\n",
       "    .dataframe tbody tr th {\n",
       "        vertical-align: top;\n",
       "    }\n",
       "\n",
       "    .dataframe thead th {\n",
       "        text-align: right;\n",
       "    }\n",
       "</style>\n",
       "<table border=\"1\" class=\"dataframe\">\n",
       "  <thead>\n",
       "    <tr style=\"text-align: right;\">\n",
       "      <th></th>\n",
       "      <th>Review</th>\n",
       "      <th>date</th>\n",
       "      <th>Location</th>\n",
       "    </tr>\n",
       "  </thead>\n",
       "  <tbody>\n",
       "    <tr>\n",
       "      <th>0</th>\n",
       "      <td>I was very impressed with the resort.\\n Great ...</td>\n",
       "      <td>2019/08/20</td>\n",
       "      <td>Sebastian</td>\n",
       "    </tr>\n",
       "    <tr>\n",
       "      <th>1</th>\n",
       "      <td>The rooms were nice the outside needs work als...</td>\n",
       "      <td>2019/08/20</td>\n",
       "      <td>Los Angeles</td>\n",
       "    </tr>\n",
       "    <tr>\n",
       "      <th>2</th>\n",
       "      <td>Great location! I have stayed at this hotel on...</td>\n",
       "      <td>2019/08/20</td>\n",
       "      <td>Georgia</td>\n",
       "    </tr>\n",
       "    <tr>\n",
       "      <th>3</th>\n",
       "      <td>The hotel was adequate for my stay. The strips...</td>\n",
       "      <td>2019/08/20</td>\n",
       "      <td>NaN</td>\n",
       "    </tr>\n",
       "    <tr>\n",
       "      <th>4</th>\n",
       "      <td>Great location, room was large and spacious. P...</td>\n",
       "      <td>2019/08/19</td>\n",
       "      <td>Palm Harbor</td>\n",
       "    </tr>\n",
       "  </tbody>\n",
       "</table>\n",
       "</div>"
      ],
      "text/plain": [
       "                                              Review        date     Location\n",
       "0  I was very impressed with the resort.\\n Great ...  2019/08/20    Sebastian\n",
       "1  The rooms were nice the outside needs work als...  2019/08/20  Los Angeles\n",
       "2  Great location! I have stayed at this hotel on...  2019/08/20      Georgia\n",
       "3  The hotel was adequate for my stay. The strips...  2019/08/20          NaN\n",
       "4  Great location, room was large and spacious. P...  2019/08/19  Palm Harbor"
      ]
     },
     "execution_count": 4,
     "metadata": {},
     "output_type": "execute_result"
    }
   ],
   "source": [
    "df.head()"
   ]
  },
  {
   "cell_type": "code",
   "execution_count": null,
   "id": "ad75445f",
   "metadata": {},
   "outputs": [],
   "source": []
  },
  {
   "cell_type": "markdown",
   "id": "6e4c44f9",
   "metadata": {},
   "source": [
    "### Data Preprocessing"
   ]
  },
  {
   "cell_type": "code",
   "execution_count": 5,
   "id": "28046432",
   "metadata": {
    "scrolled": false
   },
   "outputs": [
    {
     "data": {
      "text/plain": [
       "Review        55\n",
       "date           0\n",
       "Location    4737\n",
       "dtype: int64"
      ]
     },
     "execution_count": 5,
     "metadata": {},
     "output_type": "execute_result"
    }
   ],
   "source": [
    "df.isnull().sum()"
   ]
  },
  {
   "cell_type": "markdown",
   "id": "0c0ee9bf",
   "metadata": {},
   "source": [
    "###### Since there are alot of missing values in `Location`, I will simply drop the column."
   ]
  },
  {
   "cell_type": "code",
   "execution_count": 6,
   "id": "043ab7dd",
   "metadata": {},
   "outputs": [],
   "source": [
    "df = df.drop(['Location'], axis = 1)"
   ]
  },
  {
   "cell_type": "markdown",
   "id": "dab19695",
   "metadata": {},
   "source": [
    "###### Replacing all the `line break` command to `space`"
   ]
  },
  {
   "cell_type": "code",
   "execution_count": 7,
   "id": "d8d91e09",
   "metadata": {},
   "outputs": [],
   "source": [
    "df = df.replace('\\n',' ', regex=True) "
   ]
  },
  {
   "cell_type": "markdown",
   "id": "05eacf8f",
   "metadata": {},
   "source": [
    "###### There are some rows with no review, so we will remove those rows."
   ]
  },
  {
   "cell_type": "code",
   "execution_count": 8,
   "id": "aabd63ef",
   "metadata": {},
   "outputs": [],
   "source": [
    "df.dropna(inplace=True)"
   ]
  },
  {
   "cell_type": "code",
   "execution_count": 9,
   "id": "f967a5ab",
   "metadata": {
    "scrolled": true
   },
   "outputs": [
    {
     "data": {
      "text/plain": [
       "Review    0\n",
       "date      0\n",
       "dtype: int64"
      ]
     },
     "execution_count": 9,
     "metadata": {},
     "output_type": "execute_result"
    }
   ],
   "source": [
    "df.isna().sum()"
   ]
  },
  {
   "cell_type": "code",
   "execution_count": 10,
   "id": "790df1e6",
   "metadata": {},
   "outputs": [
    {
     "data": {
      "text/plain": [
       "0"
      ]
     },
     "execution_count": 10,
     "metadata": {},
     "output_type": "execute_result"
    }
   ],
   "source": [
    "df['Review'].str.isspace().sum()"
   ]
  },
  {
   "cell_type": "markdown",
   "id": "634574c6",
   "metadata": {},
   "source": [
    "- Now there are no missing or empty reviews in the dataframe."
   ]
  },
  {
   "cell_type": "markdown",
   "id": "2c684126",
   "metadata": {},
   "source": [
    "## Exploratory Data Analysis"
   ]
  },
  {
   "cell_type": "code",
   "execution_count": 11,
   "id": "a06411a1",
   "metadata": {
    "scrolled": true
   },
   "outputs": [
    {
     "data": {
      "text/html": [
       "<div>\n",
       "<style scoped>\n",
       "    .dataframe tbody tr th:only-of-type {\n",
       "        vertical-align: middle;\n",
       "    }\n",
       "\n",
       "    .dataframe tbody tr th {\n",
       "        vertical-align: top;\n",
       "    }\n",
       "\n",
       "    .dataframe thead th {\n",
       "        text-align: right;\n",
       "    }\n",
       "</style>\n",
       "<table border=\"1\" class=\"dataframe\">\n",
       "  <thead>\n",
       "    <tr style=\"text-align: right;\">\n",
       "      <th></th>\n",
       "      <th>Review</th>\n",
       "      <th>date</th>\n",
       "    </tr>\n",
       "  </thead>\n",
       "  <tbody>\n",
       "    <tr>\n",
       "      <th>0</th>\n",
       "      <td>I was very impressed with the resort.  Great s...</td>\n",
       "      <td>2019/08/20</td>\n",
       "    </tr>\n",
       "    <tr>\n",
       "      <th>1</th>\n",
       "      <td>The rooms were nice the outside needs work als...</td>\n",
       "      <td>2019/08/20</td>\n",
       "    </tr>\n",
       "    <tr>\n",
       "      <th>2</th>\n",
       "      <td>Great location! I have stayed at this hotel on...</td>\n",
       "      <td>2019/08/20</td>\n",
       "    </tr>\n",
       "    <tr>\n",
       "      <th>3</th>\n",
       "      <td>The hotel was adequate for my stay. The strips...</td>\n",
       "      <td>2019/08/20</td>\n",
       "    </tr>\n",
       "    <tr>\n",
       "      <th>4</th>\n",
       "      <td>Great location, room was large and spacious. P...</td>\n",
       "      <td>2019/08/19</td>\n",
       "    </tr>\n",
       "  </tbody>\n",
       "</table>\n",
       "</div>"
      ],
      "text/plain": [
       "                                              Review        date\n",
       "0  I was very impressed with the resort.  Great s...  2019/08/20\n",
       "1  The rooms were nice the outside needs work als...  2019/08/20\n",
       "2  Great location! I have stayed at this hotel on...  2019/08/20\n",
       "3  The hotel was adequate for my stay. The strips...  2019/08/20\n",
       "4  Great location, room was large and spacious. P...  2019/08/19"
      ]
     },
     "execution_count": 11,
     "metadata": {},
     "output_type": "execute_result"
    }
   ],
   "source": [
    "df.head()"
   ]
  },
  {
   "cell_type": "markdown",
   "id": "c948cd75",
   "metadata": {},
   "source": [
    "#### Computing compound score using Sentiment Intensity Analyzer."
   ]
  },
  {
   "cell_type": "code",
   "execution_count": 12,
   "id": "c97ac6a5",
   "metadata": {},
   "outputs": [],
   "source": [
    "sia = SentimentIntensityAnalyzer()"
   ]
  },
  {
   "cell_type": "code",
   "execution_count": 13,
   "id": "2a239f23",
   "metadata": {
    "scrolled": false
   },
   "outputs": [
    {
     "data": {
      "text/html": [
       "<div>\n",
       "<style scoped>\n",
       "    .dataframe tbody tr th:only-of-type {\n",
       "        vertical-align: middle;\n",
       "    }\n",
       "\n",
       "    .dataframe tbody tr th {\n",
       "        vertical-align: top;\n",
       "    }\n",
       "\n",
       "    .dataframe thead th {\n",
       "        text-align: right;\n",
       "    }\n",
       "</style>\n",
       "<table border=\"1\" class=\"dataframe\">\n",
       "  <thead>\n",
       "    <tr style=\"text-align: right;\">\n",
       "      <th></th>\n",
       "      <th>Review</th>\n",
       "      <th>date</th>\n",
       "      <th>compound</th>\n",
       "    </tr>\n",
       "  </thead>\n",
       "  <tbody>\n",
       "    <tr>\n",
       "      <th>0</th>\n",
       "      <td>I was very impressed with the resort.  Great s...</td>\n",
       "      <td>2019/08/20</td>\n",
       "      <td>0.9421</td>\n",
       "    </tr>\n",
       "    <tr>\n",
       "      <th>1</th>\n",
       "      <td>The rooms were nice the outside needs work als...</td>\n",
       "      <td>2019/08/20</td>\n",
       "      <td>0.8360</td>\n",
       "    </tr>\n",
       "    <tr>\n",
       "      <th>2</th>\n",
       "      <td>Great location! I have stayed at this hotel on...</td>\n",
       "      <td>2019/08/20</td>\n",
       "      <td>0.6588</td>\n",
       "    </tr>\n",
       "    <tr>\n",
       "      <th>3</th>\n",
       "      <td>The hotel was adequate for my stay. The strips...</td>\n",
       "      <td>2019/08/20</td>\n",
       "      <td>0.3634</td>\n",
       "    </tr>\n",
       "    <tr>\n",
       "      <th>4</th>\n",
       "      <td>Great location, room was large and spacious. P...</td>\n",
       "      <td>2019/08/19</td>\n",
       "      <td>0.9260</td>\n",
       "    </tr>\n",
       "  </tbody>\n",
       "</table>\n",
       "</div>"
      ],
      "text/plain": [
       "                                              Review        date  compound\n",
       "0  I was very impressed with the resort.  Great s...  2019/08/20    0.9421\n",
       "1  The rooms were nice the outside needs work als...  2019/08/20    0.8360\n",
       "2  Great location! I have stayed at this hotel on...  2019/08/20    0.6588\n",
       "3  The hotel was adequate for my stay. The strips...  2019/08/20    0.3634\n",
       "4  Great location, room was large and spacious. P...  2019/08/19    0.9260"
      ]
     },
     "execution_count": 13,
     "metadata": {},
     "output_type": "execute_result"
    }
   ],
   "source": [
    "df['compound'] = df['Review'].apply(lambda x:sia.polarity_scores(x)['compound'])\n",
    "df.head()"
   ]
  },
  {
   "cell_type": "markdown",
   "id": "487dff11",
   "metadata": {},
   "source": [
    "#### Computing words per review."
   ]
  },
  {
   "cell_type": "code",
   "execution_count": 14,
   "id": "b90df5f6",
   "metadata": {},
   "outputs": [],
   "source": [
    "df['word_count'] = df['Review'].apply(lambda x : len(x.split()))"
   ]
  },
  {
   "cell_type": "code",
   "execution_count": 15,
   "id": "d7036ee3",
   "metadata": {
    "scrolled": true
   },
   "outputs": [
    {
     "data": {
      "text/html": [
       "<div>\n",
       "<style scoped>\n",
       "    .dataframe tbody tr th:only-of-type {\n",
       "        vertical-align: middle;\n",
       "    }\n",
       "\n",
       "    .dataframe tbody tr th {\n",
       "        vertical-align: top;\n",
       "    }\n",
       "\n",
       "    .dataframe thead th {\n",
       "        text-align: right;\n",
       "    }\n",
       "</style>\n",
       "<table border=\"1\" class=\"dataframe\">\n",
       "  <thead>\n",
       "    <tr style=\"text-align: right;\">\n",
       "      <th></th>\n",
       "      <th>mean</th>\n",
       "      <th>std</th>\n",
       "      <th>max</th>\n",
       "      <th>min</th>\n",
       "    </tr>\n",
       "  </thead>\n",
       "  <tbody>\n",
       "    <tr>\n",
       "      <th>compound</th>\n",
       "      <td>0.393988</td>\n",
       "      <td>0.557268</td>\n",
       "      <td>0.9971</td>\n",
       "      <td>-0.998</td>\n",
       "    </tr>\n",
       "    <tr>\n",
       "      <th>word_count</th>\n",
       "      <td>43.016424</td>\n",
       "      <td>40.081092</td>\n",
       "      <td>311.0000</td>\n",
       "      <td>1.000</td>\n",
       "    </tr>\n",
       "  </tbody>\n",
       "</table>\n",
       "</div>"
      ],
      "text/plain": [
       "                 mean        std       max    min\n",
       "compound     0.393988   0.557268    0.9971 -0.998\n",
       "word_count  43.016424  40.081092  311.0000  1.000"
      ]
     },
     "execution_count": 15,
     "metadata": {},
     "output_type": "execute_result"
    }
   ],
   "source": [
    "df.describe().transpose()[['mean', 'std', 'max', 'min']]"
   ]
  },
  {
   "cell_type": "markdown",
   "id": "869a7547",
   "metadata": {},
   "source": [
    "- Mean review score is 0.4, while it's deviation is 0.55. Therefore we can say there is huge deviation in review score.\n",
    "- Mean word count pre review is arounf 43 words but it's standard deviation is around 40 words as some guests have posted one word review as well."
   ]
  },
  {
   "cell_type": "markdown",
   "id": "ef3d8d00",
   "metadata": {},
   "source": [
    "### Distributions"
   ]
  },
  {
   "cell_type": "code",
   "execution_count": 16,
   "id": "cd6df2c5",
   "metadata": {
    "scrolled": true
   },
   "outputs": [
    {
     "data": {
      "image/png": "[encoded data removed]",
      "text/plain": [
       "<Figure size 600x400 with 1 Axes>"
      ]
     },
     "metadata": {
      "needs_background": "light"
     },
     "output_type": "display_data"
    }
   ],
   "source": [
    "plt.figure(dpi = 100)\n",
    "sns.histplot(data = df, x = 'compound', bins=15)\n",
    "plt.title('Distribution of Compound Score');"
   ]
  },
  {
   "cell_type": "markdown",
   "id": "4f202219",
   "metadata": {},
   "source": [
    "- Most of the guests have posted positive review as the distribution of compound score is skewed towards high and positive compound scores.\n",
    "- A spike at value zero can be attributed to review which are neutral in nature."
   ]
  },
  {
   "cell_type": "code",
   "execution_count": 17,
   "id": "aec04820",
   "metadata": {
    "scrolled": true
   },
   "outputs": [
    {
     "data": {
      "image/png": "[encoded data removed]",
      "text/plain": [
       "<Figure size 600x400 with 1 Axes>"
      ]
     },
     "metadata": {
      "needs_background": "light"
     },
     "output_type": "display_data"
    }
   ],
   "source": [
    "plt.figure(dpi = 100)\n",
    "sns.histplot(data = df, x = 'word_count', bins = 50)\n",
    "plt.title('Distribution of Word Count');"
   ]
  },
  {
   "cell_type": "markdown",
   "id": "6ce4f6b0",
   "metadata": {},
   "source": [
    "- Most of the review contains less than 50 words with maximum reviews having words in the range of 20 - 30 words."
   ]
  },
  {
   "cell_type": "code",
   "execution_count": 18,
   "id": "4034dd57",
   "metadata": {},
   "outputs": [
    {
     "data": {
      "text/html": [
       "<div>\n",
       "<style scoped>\n",
       "    .dataframe tbody tr th:only-of-type {\n",
       "        vertical-align: middle;\n",
       "    }\n",
       "\n",
       "    .dataframe tbody tr th {\n",
       "        vertical-align: top;\n",
       "    }\n",
       "\n",
       "    .dataframe thead th {\n",
       "        text-align: right;\n",
       "    }\n",
       "</style>\n",
       "<table border=\"1\" class=\"dataframe\">\n",
       "  <thead>\n",
       "    <tr style=\"text-align: right;\">\n",
       "      <th></th>\n",
       "      <th>Review</th>\n",
       "      <th>date</th>\n",
       "      <th>compound</th>\n",
       "      <th>word_count</th>\n",
       "      <th>label</th>\n",
       "    </tr>\n",
       "  </thead>\n",
       "  <tbody>\n",
       "    <tr>\n",
       "      <th>0</th>\n",
       "      <td>I was very impressed with the resort.  Great s...</td>\n",
       "      <td>2019/08/20</td>\n",
       "      <td>0.9421</td>\n",
       "      <td>33</td>\n",
       "      <td>Positive</td>\n",
       "    </tr>\n",
       "    <tr>\n",
       "      <th>1</th>\n",
       "      <td>The rooms were nice the outside needs work als...</td>\n",
       "      <td>2019/08/20</td>\n",
       "      <td>0.8360</td>\n",
       "      <td>25</td>\n",
       "      <td>Positive</td>\n",
       "    </tr>\n",
       "    <tr>\n",
       "      <th>2</th>\n",
       "      <td>Great location! I have stayed at this hotel on...</td>\n",
       "      <td>2019/08/20</td>\n",
       "      <td>0.6588</td>\n",
       "      <td>20</td>\n",
       "      <td>Positive</td>\n",
       "    </tr>\n",
       "    <tr>\n",
       "      <th>3</th>\n",
       "      <td>The hotel was adequate for my stay. The strips...</td>\n",
       "      <td>2019/08/20</td>\n",
       "      <td>0.3634</td>\n",
       "      <td>84</td>\n",
       "      <td>Positive</td>\n",
       "    </tr>\n",
       "    <tr>\n",
       "      <th>4</th>\n",
       "      <td>Great location, room was large and spacious. P...</td>\n",
       "      <td>2019/08/19</td>\n",
       "      <td>0.9260</td>\n",
       "      <td>20</td>\n",
       "      <td>Positive</td>\n",
       "    </tr>\n",
       "    <tr>\n",
       "      <th>...</th>\n",
       "      <td>...</td>\n",
       "      <td>...</td>\n",
       "      <td>...</td>\n",
       "      <td>...</td>\n",
       "      <td>...</td>\n",
       "    </tr>\n",
       "    <tr>\n",
       "      <th>6443</th>\n",
       "      <td>·the staff were all so friendly. frank, the ch...</td>\n",
       "      <td>2019/07/12</td>\n",
       "      <td>0.9716</td>\n",
       "      <td>132</td>\n",
       "      <td>Positive</td>\n",
       "    </tr>\n",
       "    <tr>\n",
       "      <th>6444</th>\n",
       "      <td>·the internet barely worked or didn't work</td>\n",
       "      <td>2019/07/12</td>\n",
       "      <td>0.0000</td>\n",
       "      <td>7</td>\n",
       "      <td>NaN</td>\n",
       "    </tr>\n",
       "    <tr>\n",
       "      <th>6445</th>\n",
       "      <td>·the location was great.          ·the bed was...</td>\n",
       "      <td>2019/07/10</td>\n",
       "      <td>0.2975</td>\n",
       "      <td>16</td>\n",
       "      <td>Positive</td>\n",
       "    </tr>\n",
       "    <tr>\n",
       "      <th>6446</th>\n",
       "      <td>·we were early for check in and the staff was ...</td>\n",
       "      <td>2019/07/10</td>\n",
       "      <td>0.0000</td>\n",
       "      <td>25</td>\n",
       "      <td>NaN</td>\n",
       "    </tr>\n",
       "    <tr>\n",
       "      <th>6447</th>\n",
       "      <td>·staff, free coffee, location and activities. ...</td>\n",
       "      <td>2019/07/10</td>\n",
       "      <td>0.0979</td>\n",
       "      <td>17</td>\n",
       "      <td>NaN</td>\n",
       "    </tr>\n",
       "  </tbody>\n",
       "</table>\n",
       "<p>6393 rows × 5 columns</p>\n",
       "</div>"
      ],
      "text/plain": [
       "                                                 Review        date  compound  \\\n",
       "0     I was very impressed with the resort.  Great s...  2019/08/20    0.9421   \n",
       "1     The rooms were nice the outside needs work als...  2019/08/20    0.8360   \n",
       "2     Great location! I have stayed at this hotel on...  2019/08/20    0.6588   \n",
       "3     The hotel was adequate for my stay. The strips...  2019/08/20    0.3634   \n",
       "4     Great location, room was large and spacious. P...  2019/08/19    0.9260   \n",
       "...                                                 ...         ...       ...   \n",
       "6443  ·the staff were all so friendly. frank, the ch...  2019/07/12    0.9716   \n",
       "6444         ·the internet barely worked or didn't work  2019/07/12    0.0000   \n",
       "6445  ·the location was great.          ·the bed was...  2019/07/10    0.2975   \n",
       "6446  ·we were early for check in and the staff was ...  2019/07/10    0.0000   \n",
       "6447  ·staff, free coffee, location and activities. ...  2019/07/10    0.0979   \n",
       "\n",
       "      word_count     label  \n",
       "0             33  Positive  \n",
       "1             25  Positive  \n",
       "2             20  Positive  \n",
       "3             84  Positive  \n",
       "4             20  Positive  \n",
       "...          ...       ...  \n",
       "6443         132  Positive  \n",
       "6444           7       NaN  \n",
       "6445          16  Positive  \n",
       "6446          25       NaN  \n",
       "6447          17       NaN  \n",
       "\n",
       "[6393 rows x 5 columns]"
      ]
     },
     "execution_count": 18,
     "metadata": {},
     "output_type": "execute_result"
    }
   ],
   "source": [
    "df.loc[df['compound'] > 0.2 , 'label'] = 'Positive' \n",
    "df.loc[df['compound'] < -0.2, 'label'] = 'Negative'  \n",
    "df"
   ]
  },
  {
   "cell_type": "code",
   "execution_count": 19,
   "id": "ff3aae99",
   "metadata": {},
   "outputs": [
    {
     "data": {
      "image/png": "[encoded data removed]",
      "text/plain": [
       "<Figure size 600x400 with 1 Axes>"
      ]
     },
     "metadata": {
      "needs_background": "light"
     },
     "output_type": "display_data"
    }
   ],
   "source": [
    "plt.figure(dpi = 100)\n",
    "sns.histplot(data = df, x = 'word_count', bins = 50, hue = 'label')\n",
    "plt.title('Distribution of Word Count');"
   ]
  },
  {
   "cell_type": "markdown",
   "id": "a8d600f8",
   "metadata": {},
   "source": [
    "- Guests who gave positive review use more words than those who gave negative review."
   ]
  },
  {
   "cell_type": "markdown",
   "id": "9e5ef2f1",
   "metadata": {},
   "source": [
    "### Comparision of compound score by time."
   ]
  },
  {
   "cell_type": "code",
   "execution_count": 20,
   "id": "be541240",
   "metadata": {
    "scrolled": true
   },
   "outputs": [],
   "source": [
    "df['year'] = pd.DatetimeIndex(df['date']).year"
   ]
  },
  {
   "cell_type": "code",
   "execution_count": 21,
   "id": "41c44a4a",
   "metadata": {},
   "outputs": [
    {
     "data": {
      "text/plain": [
       "array([2019, 2018], dtype=int64)"
      ]
     },
     "execution_count": 21,
     "metadata": {},
     "output_type": "execute_result"
    }
   ],
   "source": [
    "df.year.unique()"
   ]
  },
  {
   "cell_type": "code",
   "execution_count": 22,
   "id": "977f3f69",
   "metadata": {
    "scrolled": true
   },
   "outputs": [
    {
     "data": {
      "text/plain": [
       "<AxesSubplot:xlabel='year', ylabel='compound'>"
      ]
     },
     "execution_count": 22,
     "metadata": {},
     "output_type": "execute_result"
    },
    {
     "data": {
      "image/png": "[encoded data removed]",
      "text/plain": [
       "<Figure size 600x400 with 1 Axes>"
      ]
     },
     "metadata": {
      "needs_background": "light"
     },
     "output_type": "display_data"
    }
   ],
   "source": [
    "plt.figure(dpi = 100)\n",
    "sns.boxplot(data = df, y = 'compound', x = 'year')"
   ]
  },
  {
   "cell_type": "markdown",
   "id": "0e490304",
   "metadata": {},
   "source": [
    "- These seems to be no difference in score between subsequent year.\n",
    "- The variation of score also remaisn the same."
   ]
  },
  {
   "cell_type": "markdown",
   "id": "8ec428ee",
   "metadata": {},
   "source": [
    "### Classfying reviews.\n",
    "- Compound score greater than `0.2` will be classified as `Positive review`.\n",
    "- Compound score less than `0.2` will be classified as `Negative review`."
   ]
  },
  {
   "cell_type": "code",
   "execution_count": 23,
   "id": "b8643ba4",
   "metadata": {},
   "outputs": [],
   "source": [
    "pos_review = 0\n",
    "\n",
    "for com in df['compound']:\n",
    "    if com > 0.2:\n",
    "        pos_review = pos_review + 1\n",
    "    else:\n",
    "        pos_review = pos_review"
   ]
  },
  {
   "cell_type": "code",
   "execution_count": 24,
   "id": "37e1d8f2",
   "metadata": {},
   "outputs": [
    {
     "data": {
      "text/plain": [
       "4257"
      ]
     },
     "execution_count": 24,
     "metadata": {},
     "output_type": "execute_result"
    }
   ],
   "source": [
    "pos_review"
   ]
  },
  {
   "cell_type": "code",
   "execution_count": 25,
   "id": "794adc47",
   "metadata": {},
   "outputs": [],
   "source": [
    "neg_review = 0\n",
    "\n",
    "for com in df['compound']:\n",
    "    if com < -0.2:\n",
    "        neg_review = neg_review + 1\n",
    "    else:\n",
    "        neg_review = neg_review"
   ]
  },
  {
   "cell_type": "code",
   "execution_count": 26,
   "id": "937b984b",
   "metadata": {},
   "outputs": [
    {
     "data": {
      "text/plain": [
       "1103"
      ]
     },
     "execution_count": 26,
     "metadata": {},
     "output_type": "execute_result"
    }
   ],
   "source": [
    "neg_review"
   ]
  },
  {
   "cell_type": "code",
   "execution_count": 27,
   "id": "0915917e",
   "metadata": {},
   "outputs": [],
   "source": [
    "da = pd.DataFrame(data = [pos_review, neg_review],\n",
    "                index=('Positive Review', 'Negative review'), \n",
    "                columns= ['Count'])"
   ]
  },
  {
   "cell_type": "code",
   "execution_count": 28,
   "id": "8e79279b",
   "metadata": {},
   "outputs": [
    {
     "data": {
      "text/html": [
       "<div>\n",
       "<style scoped>\n",
       "    .dataframe tbody tr th:only-of-type {\n",
       "        vertical-align: middle;\n",
       "    }\n",
       "\n",
       "    .dataframe tbody tr th {\n",
       "        vertical-align: top;\n",
       "    }\n",
       "\n",
       "    .dataframe thead th {\n",
       "        text-align: right;\n",
       "    }\n",
       "</style>\n",
       "<table border=\"1\" class=\"dataframe\">\n",
       "  <thead>\n",
       "    <tr style=\"text-align: right;\">\n",
       "      <th></th>\n",
       "      <th>Count</th>\n",
       "    </tr>\n",
       "  </thead>\n",
       "  <tbody>\n",
       "    <tr>\n",
       "      <th>Positive Review</th>\n",
       "      <td>4257</td>\n",
       "    </tr>\n",
       "    <tr>\n",
       "      <th>Negative review</th>\n",
       "      <td>1103</td>\n",
       "    </tr>\n",
       "  </tbody>\n",
       "</table>\n",
       "</div>"
      ],
      "text/plain": [
       "                 Count\n",
       "Positive Review   4257\n",
       "Negative review   1103"
      ]
     },
     "execution_count": 28,
     "metadata": {},
     "output_type": "execute_result"
    }
   ],
   "source": [
    "da"
   ]
  },
  {
   "cell_type": "code",
   "execution_count": 29,
   "id": "ecf03f67",
   "metadata": {},
   "outputs": [],
   "source": [
    "da['Percent'] = round(da['Count'] * 100 / len(df), 0)"
   ]
  },
  {
   "cell_type": "code",
   "execution_count": 30,
   "id": "7ef8d38f",
   "metadata": {},
   "outputs": [
    {
     "data": {
      "text/html": [
       "<div>\n",
       "<style scoped>\n",
       "    .dataframe tbody tr th:only-of-type {\n",
       "        vertical-align: middle;\n",
       "    }\n",
       "\n",
       "    .dataframe tbody tr th {\n",
       "        vertical-align: top;\n",
       "    }\n",
       "\n",
       "    .dataframe thead th {\n",
       "        text-align: right;\n",
       "    }\n",
       "</style>\n",
       "<table border=\"1\" class=\"dataframe\">\n",
       "  <thead>\n",
       "    <tr style=\"text-align: right;\">\n",
       "      <th></th>\n",
       "      <th>Count</th>\n",
       "      <th>Percent</th>\n",
       "    </tr>\n",
       "  </thead>\n",
       "  <tbody>\n",
       "    <tr>\n",
       "      <th>Positive Review</th>\n",
       "      <td>4257</td>\n",
       "      <td>67.0</td>\n",
       "    </tr>\n",
       "    <tr>\n",
       "      <th>Negative review</th>\n",
       "      <td>1103</td>\n",
       "      <td>17.0</td>\n",
       "    </tr>\n",
       "  </tbody>\n",
       "</table>\n",
       "</div>"
      ],
      "text/plain": [
       "                 Count  Percent\n",
       "Positive Review   4257     67.0\n",
       "Negative review   1103     17.0"
      ]
     },
     "execution_count": 30,
     "metadata": {},
     "output_type": "execute_result"
    }
   ],
   "source": [
    "da"
   ]
  },
  {
   "cell_type": "code",
   "execution_count": 31,
   "id": "bdefbffb",
   "metadata": {
    "scrolled": false
   },
   "outputs": [
    {
     "data": {
      "image/png": "[encoded data removed]",
      "text/plain": [
       "<Figure size 600x400 with 1 Axes>"
      ]
     },
     "metadata": {
      "needs_background": "light"
     },
     "output_type": "display_data"
    }
   ],
   "source": [
    "plt.figure(dpi = 100)\n",
    "sns.barplot(data = da, x = da.index, y = 'Percent')\n",
    "plt.title('Reviews');"
   ]
  },
  {
   "cell_type": "markdown",
   "id": "9e1d275e",
   "metadata": {},
   "source": [
    "- About 67% of the review has been classified to be positive while a handful of 17% have been classified to be negative review."
   ]
  },
  {
   "cell_type": "markdown",
   "id": "345991e7",
   "metadata": {},
   "source": [
    "### Bag of words."
   ]
  },
  {
   "cell_type": "code",
   "execution_count": 32,
   "id": "6db2c576",
   "metadata": {},
   "outputs": [],
   "source": [
    "from sklearn.feature_extraction.text import CountVectorizer"
   ]
  },
  {
   "cell_type": "code",
   "execution_count": 33,
   "id": "c4b38800",
   "metadata": {},
   "outputs": [],
   "source": [
    "cv = CountVectorizer(stop_words='english')"
   ]
  },
  {
   "cell_type": "code",
   "execution_count": 34,
   "id": "9cb2a110",
   "metadata": {},
   "outputs": [],
   "source": [
    "def get_top_n_words(series, n=None):\n",
    "    vec = CountVectorizer(stop_words = 'english').fit(series)\n",
    "    bag_of_words = vec.transform(series)\n",
    "    sum_words = bag_of_words.sum(axis=0) \n",
    "    words_freq = [(word, sum_words[0, idx]) for word, idx in vec.vocabulary_.items()]\n",
    "    words_freq =sorted(words_freq, key = lambda x: x[1], reverse=True)\n",
    "    return words_freq[:n]\n"
   ]
  },
  {
   "cell_type": "code",
   "execution_count": 35,
   "id": "43049d19",
   "metadata": {},
   "outputs": [],
   "source": [
    "common_words = get_top_n_words(df[df['compound'] > 0.2]['Review'], 20)\n",
    "\n",
    "df2 = pd.DataFrame(common_words, columns = ['Review_word' , 'count'])\n"
   ]
  },
  {
   "cell_type": "code",
   "execution_count": 36,
   "id": "38cf4b62",
   "metadata": {},
   "outputs": [],
   "source": [
    "#df2"
   ]
  },
  {
   "cell_type": "code",
   "execution_count": 37,
   "id": "43b989df",
   "metadata": {},
   "outputs": [
    {
     "data": {
      "image/png": "[encoded data removed]",
      "text/plain": [
       "<Figure size 600x400 with 1 Axes>"
      ]
     },
     "metadata": {
      "needs_background": "light"
     },
     "output_type": "display_data"
    }
   ],
   "source": [
    "plt.figure(dpi = 100)\n",
    "plt.xticks(rotation = 75)\n",
    "sns.barplot(data = df2, x = 'Review_word', y = 'count')\n",
    "plt.title('Top 20 Positive review words');"
   ]
  },
  {
   "cell_type": "markdown",
   "id": "3c4656a0",
   "metadata": {},
   "source": [
    "- Guests who gave good review mostly liked areas such as `read`, `room`, `staff`, `loation`, `stay`, `time`, `service`, `disney`."
   ]
  },
  {
   "cell_type": "code",
   "execution_count": 38,
   "id": "cdb5e2f3",
   "metadata": {},
   "outputs": [],
   "source": [
    "common_words = get_top_n_words(df[df['compound'] < -0.2]['Review'], 20)\n",
    "\n",
    "df3 = pd.DataFrame(common_words, columns = ['Review_word' , 'count'])\n"
   ]
  },
  {
   "cell_type": "code",
   "execution_count": 39,
   "id": "cefd945f",
   "metadata": {},
   "outputs": [],
   "source": [
    "#df3"
   ]
  },
  {
   "cell_type": "code",
   "execution_count": 40,
   "id": "60307b87",
   "metadata": {},
   "outputs": [
    {
     "data": {
      "image/png": "[encoded data removed]",
      "text/plain": [
       "<Figure size 600x400 with 1 Axes>"
      ]
     },
     "metadata": {
      "needs_background": "light"
     },
     "output_type": "display_data"
    }
   ],
   "source": [
    "plt.figure(dpi = 100)\n",
    "plt.xticks(rotation = 75)\n",
    "sns.barplot(data = df3, x = 'Review_word', y = 'count')\n",
    "plt.title('Top 20 Negative review words');"
   ]
  },
  {
   "cell_type": "markdown",
   "id": "625f5acd",
   "metadata": {},
   "source": [
    "- Guests who gave negative review mostly disliked `rooms`, `read`, `staff`, `bathroom`, `clean`, `bed`, `parking`, `service`."
   ]
  },
  {
   "cell_type": "markdown",
   "id": "cc32fe12",
   "metadata": {},
   "source": [
    "# Interesting Inferences\n",
    "- While the distribution of compound score is skewed towards high and positive scores but it has high standard deviation because of which the mean value of score is around 0.4 only.\n",
    "- Most of the guests gave their review in between 30-40 words.\n",
    "- Although guests with positive review tend to use more words to review than guests who give negative review.\n",
    "- These's no significant difference in compound score between 2018 and 2019. The overall hotel servie seems to be consistent through the time period given.\n",
    "- Most of the review are classified to be positive. They make upto 67% of total reviews. While only 17% of the reviews are classified to be negative.\n",
    "- Factors contributing towards good experience are read, room, staff, loation, stay, time, service, disney.\n",
    "- Factors contributing towards bad experience are rooms, read, staff, bathroom, clean, bed, parking, service, dirty. \n",
    "- Hotel manaement can focus on bathroom, cleanliness, parking, service, etc to improve experience of there guests."
   ]
  },
  {
   "cell_type": "markdown",
   "id": "138fbb9b",
   "metadata": {},
   "source": [
    "# Thanks"
   ]
  },
  {
   "cell_type": "code",
   "execution_count": null,
   "id": "49034b9d",
   "metadata": {},
   "outputs": [],
   "source": []
  }
 ],
 "metadata": {
  "kernelspec": {
   "display_name": "Python 3",
   "language": "python",
   "name": "python3"
  },
  "language_info": {
   "codemirror_mode": {
    "name": "ipython",
    "version": 3
   },
   "file_extension": ".py",
   "mimetype": "text/x-python",
   "name": "python",
   "nbconvert_exporter": "python",
   "pygments_lexer": "ipython3",
   "version": "3.7.10"
  }
 },
 "nbformat": 4,
 "nbformat_minor": 5
}
